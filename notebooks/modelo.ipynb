{
 "cells": [
  {
   "cell_type": "code",
   "execution_count": null,
   "id": "78fef4a6",
   "metadata": {},
   "outputs": [],
   "source": [
    "from sklearn.metrics import mean_absolute_error, r2_score, mean_squared_error\n",
    "import numpy as np\n",
    "import pandas as pd\n",
    "import pickle"
   ]
  },
  {
   "cell_type": "markdown",
   "id": "8ba0cd6f",
   "metadata": {},
   "source": [
    "### Regresión Lineal"
   ]
  },
  {
   "cell_type": "code",
   "execution_count": 9,
   "id": "758d3800",
   "metadata": {},
   "outputs": [
    {
     "name": "stdout",
     "output_type": "stream",
     "text": [
      "MAE: 253677.3570063976, MSE: 157216783944.83176, R2: 0.8128476574779491\n"
     ]
    },
    {
     "data": {
      "text/plain": [
       "('../models/modelo_entrenado.pkl',\n",
       " 253677.3570063976,\n",
       " 0.8128476574779491,\n",
       " ['metros',\n",
       "  'habitaciones',\n",
       "  'ascensor',\n",
       "  'localizacion',\n",
       "  'planta',\n",
       "  'baños',\n",
       "  'zona_barajas',\n",
       "  'zona_barrio-de-salamanca',\n",
       "  'zona_carabanchel',\n",
       "  'zona_centro',\n",
       "  'zona_chamartin',\n",
       "  'zona_chamberi',\n",
       "  'zona_ciudad-lineal',\n",
       "  'zona_fuencarral',\n",
       "  'zona_hortaleza',\n",
       "  'zona_latina',\n",
       "  'zona_moncloa',\n",
       "  'zona_moratalaz',\n",
       "  'zona_puente-de-vallecas',\n",
       "  'zona_retiro',\n",
       "  'zona_san-blas',\n",
       "  'zona_tetuan',\n",
       "  'zona_usera',\n",
       "  'zona_vicalvaro',\n",
       "  'zona_villa-de-vallecas',\n",
       "  'zona_villaverde'])"
      ]
     },
     "execution_count": 9,
     "metadata": {},
     "output_type": "execute_result"
    }
   ],
   "source": [
    "# Copia del DataFrame\n",
    "df = pd.read_csv(\"../data/pisos.csv\")\n",
    "\n",
    "# Convertir columnas binarias\n",
    "df[\"ascensor\"] = df[\"ascensor\"].map({\"S\": 1, \"N\": 0})\n",
    "df[\"localizacion\"] = df[\"localizacion\"].map({\"EXTERIOR\": 1, \"INTERIOR\": 0})\n",
    "\n",
    "# Normalizar la columna 'planta'\n",
    "def transformar_planta(valor):\n",
    "    if \"ÁTICO\" in valor:\n",
    "        return 100\n",
    "    elif \"BAJO\" in valor:\n",
    "        return 0\n",
    "    else:\n",
    "        try:\n",
    "            return int(valor.replace(\"ª\", \"\"))\n",
    "        except:\n",
    "            return np.nan\n",
    "\n",
    "df[\"planta\"] = df[\"planta\"].apply(transformar_planta)\n",
    "\n",
    "# Eliminar filas con valores nulos\n",
    "df.dropna(inplace=True)\n",
    "\n",
    "# Separar variables predictoras y objetivo\n",
    "X = df.drop(columns=[\"PrecioActual\"])\n",
    "y = df[\"PrecioActual\"]\n",
    "\n",
    "# Codificar variables categóricas como dummies\n",
    "X_encoded = pd.get_dummies(X, columns=[\"zona\"], drop_first=True)\n",
    "\n",
    "# Dividir datos\n",
    "from sklearn.model_selection import train_test_split\n",
    "from sklearn.linear_model import LinearRegression\n",
    "\n",
    "X_train, X_test, y_train, y_test = train_test_split(X_encoded, y, test_size=0.2, random_state=42)\n",
    "\n",
    "# Entrenar modelo\n",
    "model = LinearRegression()\n",
    "model.fit(X_train, y_train)\n",
    "\n",
    "# Evaluación\n",
    "\n",
    "y_pred = model.predict(X_test)\n",
    "mae = mean_absolute_error(y_test, y_pred)\n",
    "mse = mean_squared_error(y_test, y_pred)\n",
    "r2 = r2_score(y_test, y_pred)\n",
    "print(f\"MAE: {mae}, MSE: {mse}, R2: {r2}\")\n",
    "\n",
    "# Guardar el modelo entrenado\n",
    "model_path = \"../models/modelo_entrenado.pkl\"\n",
    "with open(model_path, \"wb\") as f:\n",
    "    pickle.dump(model, f)\n",
    "\n",
    "model_path, mae, r2, X_encoded.columns.tolist()\n"
   ]
  },
  {
   "cell_type": "markdown",
   "id": "8376055b",
   "metadata": {},
   "source": [
    "### Regresión Lineal - variable objetivo normalizada"
   ]
  },
  {
   "cell_type": "code",
   "execution_count": 6,
   "id": "ea6b765f",
   "metadata": {},
   "outputs": [
    {
     "name": "stdout",
     "output_type": "stream",
     "text": [
      "MAE: 280178.61107104114, MSE: 417293787234.72784, R2: 0.5032495396402304\n"
     ]
    }
   ],
   "source": [
    "# Copia del DataFrame\n",
    "df = pd.read_csv(\"../data/pisos.csv\")\n",
    "\n",
    "# Convertir columnas binarias\n",
    "df[\"ascensor\"] = df[\"ascensor\"].map({\"S\": 1, \"N\": 0})\n",
    "df[\"localizacion\"] = df[\"localizacion\"].map({\"EXTERIOR\": 1, \"INTERIOR\": 0})\n",
    "\n",
    "# Normalizar la columna 'planta'\n",
    "def transformar_planta(valor):\n",
    "    if \"ÁTICO\" in valor:\n",
    "        return 100\n",
    "    elif \"BAJO\" in valor:\n",
    "        return 0\n",
    "    else:\n",
    "        try:\n",
    "            return int(valor.replace(\"ª\", \"\"))\n",
    "        except:\n",
    "            return np.nan\n",
    "\n",
    "df[\"planta\"] = df[\"planta\"].apply(transformar_planta)\n",
    "\n",
    "# Eliminar filas con valores nulos\n",
    "df.dropna(inplace=True)\n",
    "\n",
    "# Separar variables predictoras y objetivo\n",
    "X = df.drop(columns=[\"PrecioActual\"])\n",
    "y = np.log1p(df[\"PrecioActual\"])  # Transformación logarítmica\n",
    "\n",
    "# Codificar variables categóricas como dummies\n",
    "X_encoded = pd.get_dummies(X, columns=[\"zona\"], drop_first=True)\n",
    "\n",
    "# Dividir datos\n",
    "from sklearn.model_selection import train_test_split\n",
    "from sklearn.linear_model import LinearRegression\n",
    "\n",
    "X_train, X_test, y_train, y_test = train_test_split(X_encoded, y, test_size=0.2, random_state=42)\n",
    "\n",
    "# Entrenar modelo\n",
    "model = LinearRegression()\n",
    "model.fit(X_train, y_train)\n",
    "\n",
    "# Evaluación\n",
    "from sklearn.metrics import mean_absolute_error, mean_squared_error, r2_score\n",
    "\n",
    "y_pred_log = model.predict(X_test)\n",
    "y_pred = np.expm1(y_pred_log)      # Inversa de la transformación logarítmica\n",
    "y_test_real = np.expm1(y_test)     # Inversa para comparar en escala original\n",
    "\n",
    "mae = mean_absolute_error(y_test_real, y_pred)\n",
    "mse = mean_squared_error(y_test_real, y_pred)\n",
    "r2 = r2_score(y_test_real, y_pred)\n",
    "print(f\"MAE: {mae}, MSE: {mse}, R2: {r2}\")\n",
    "\n",
    "# Guardar el modelo entrenado\n",
    "#import pickle\n",
    "#model_path = \"../models/modelo_entrenado.pkl\"\n",
    "#with open(model_path, \"wb\") as f:\n",
    "#    pickle.dump(model, f)\n",
    "#\n",
    "#model_path, mae, mse, r2, X_encoded.columns.tolist()"
   ]
  }
 ],
 "metadata": {
  "kernelspec": {
   "display_name": "entorno_pisos",
   "language": "python",
   "name": "python3"
  },
  "language_info": {
   "codemirror_mode": {
    "name": "ipython",
    "version": 3
   },
   "file_extension": ".py",
   "mimetype": "text/x-python",
   "name": "python",
   "nbconvert_exporter": "python",
   "pygments_lexer": "ipython3",
   "version": "3.12.9"
  }
 },
 "nbformat": 4,
 "nbformat_minor": 5
}
